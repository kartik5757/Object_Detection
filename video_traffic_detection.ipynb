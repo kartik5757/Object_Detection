{
 "cells": [
  {
   "cell_type": "code",
   "execution_count": 1,
   "metadata": {},
   "outputs": [],
   "source": [
    "import os\n",
    "import re\n",
    "import cv2 # opencv library\n",
    "import numpy as np\n",
    "from os.path import isfile, join\n",
    "import matplotlib.pyplot as plt"
   ]
  },
  {
   "cell_type": "code",
   "execution_count": 52,
   "metadata": {},
   "outputs": [],
   "source": [
    "path = os.getcwd()+\"\\\\object_detection\\\\input\\\\\"\n",
    "name = \"traffic.mp4\"\n",
    "vidObj = cv2.VideoCapture(path+name)\n",
    "frames = []\n",
    "frames_processed = []\n",
    "success = 1\n",
    "kernel = np.ones((4,4),np.uint8)\n",
    "font = cv2.FONT_HERSHEY_SIMPLEX\n",
    "while success:\n",
    "    success, image = vidObj.read()\n",
    "    frames.append(image)\n",
    "# print(len(frames))\n",
    "for i in range(len(frames)-2):\n",
    "    grayA = cv2.cvtColor(frames[i], cv2.COLOR_BGR2GRAY)\n",
    "    grayB = cv2.cvtColor(frames[i+1], cv2.COLOR_BGR2GRAY)\n",
    "    diff_image = cv2.absdiff(grayB, grayA)\n",
    "    height, width = diff_image.shape\n",
    "    min_x, min_y = width, height\n",
    "    max_x = max_y = 0\n",
    "    ret, thresh = cv2.threshold(diff_image, 30, 255, cv2.THRESH_BINARY)  \n",
    "    dilated = cv2.dilate(thresh,kernel,iterations = 1)  \n",
    "    contours, hierarchy = cv2.findContours(dilated.copy(), cv2.RETR_TREE,cv2.CHAIN_APPROX_NONE)\n",
    "    valid_cntrs = []\n",
    "    for cntr in contours:\n",
    "        x,y,w,h = cv2.boundingRect(cntr)\n",
    "        if (x <= width) & (height >= int(height/2)) & (cv2.contourArea(cntr) >= 2500) & (cv2.contourArea(cntr) <= 5000):\n",
    "            if (y >= 90) & (cv2.contourArea(cntr) < 40):\n",
    "                break\n",
    "            valid_cntrs.append(cntr)\n",
    "    dmy = frames[i].copy()\n",
    "    #cv2.drawContours(dmy, valid_cntrs, -1, (127,200,0), 2)\n",
    "    cv2.putText(dmy, \"vehicles detected: \" + str(len(valid_cntrs)), (55, 15), font, 0.6, (0, 180, 0), 2)\n",
    "    cv2.line(dmy, (0, int(height/2)),(int(width),int(height/2)),(100, 255, 255),3)\n",
    "    for cntr in valid_cntrs:\n",
    "        x,y,w,h = cv2.boundingRect(cntr)\n",
    "        min_x, max_x = min(x, min_x), max(x+w, max_x)\n",
    "        min_y, max_y = min(y, min_y), max(y+h, max_y)\n",
    "        cv2.rectangle(dmy, (x,y), (x+w,y+h), (255, 0, 0), 2)\n",
    "    height, width, layers = dmy.shape\n",
    "    size = (width,height)\n",
    "    frames_processed.append(dmy)\n",
    "# len(frames_processed)"
   ]
  },
  {
   "cell_type": "code",
   "execution_count": 53,
   "metadata": {},
   "outputs": [],
   "source": [
    "pathOut = os.getcwd()+\"\\\\object_detection\\\\output\\\\\"+'vehicle_detection.mp4'\n",
    "fps = 7\n",
    "out = cv2.VideoWriter(pathOut,cv2.VideoWriter_fourcc(*'mp4v'), fps, size)\n",
    "for i in range(len(frames_processed)):\n",
    "    out.write(frames_processed[i])\n",
    "out.release()"
   ]
  },
  {
   "cell_type": "code",
   "execution_count": 54,
   "metadata": {},
   "outputs": [],
   "source": [
    "cv2.destroyAllWindows() "
   ]
  },
  {
   "cell_type": "code",
   "execution_count": null,
   "metadata": {},
   "outputs": [],
   "source": []
  }
 ],
 "metadata": {
  "kernelspec": {
   "display_name": "Python 3",
   "language": "python",
   "name": "python3"
  },
  "language_info": {
   "codemirror_mode": {
    "name": "ipython",
    "version": 3
   },
   "file_extension": ".py",
   "mimetype": "text/x-python",
   "name": "python",
   "nbconvert_exporter": "python",
   "pygments_lexer": "ipython3",
   "version": "3.7.4"
  }
 },
 "nbformat": 4,
 "nbformat_minor": 2
}
